{
 "cells": [
  {
   "cell_type": "markdown",
   "metadata": {},
   "source": [
    "# Import Libraries\n",
    "Import necessary libraries such as pandas, numpy, scikit-learn, xgboost, lightgbm, etc."
   ]
  },
  {
   "cell_type": "code",
   "execution_count": 23,
   "metadata": {},
   "outputs": [],
   "source": [
    "# !pip install lightgbm"
   ]
  },
  {
   "cell_type": "code",
   "execution_count": 24,
   "metadata": {},
   "outputs": [],
   "source": [
    "# Import necessary libraries for data manipulation, visualization, and machine learning\n",
    "import pandas as pd  # For data manipulation and analysis\n",
    "import numpy as np  # For numerical computations\n",
    "from sklearn.model_selection import train_test_split  # For splitting data into train and test sets\n",
    "from sklearn.ensemble import RandomForestClassifier  # For Random Forest model\n",
    "from sklearn.metrics import accuracy_score, classification_report, confusion_matrix  # For model evaluation\n",
    "import xgboost as xgb  # For XGBoost model\n",
    "import lightgbm as lgb  # For LightGBM model\n",
    "import matplotlib.pyplot as plt  # For data visualization\n",
    "import seaborn as sns  # For advanced data visualization\n",
    "import joblib  # For saving models to local directory\n",
    "\n",
    "# Set visualization style\n",
    "sns.set(style=\"whitegrid\")"
   ]
  },
  {
   "cell_type": "markdown",
   "metadata": {},
   "source": [
    "# Load and Explore Data\n",
    "Load the dataset from the local CSV file using pandas and explore its basic statistics and structure."
   ]
  },
  {
   "cell_type": "code",
   "execution_count": 25,
   "metadata": {},
   "outputs": [
    {
     "name": "stdout",
     "output_type": "stream",
     "text": [
      "First 5 rows of the dataset:\n",
      "   RowNumber  CustomerId   Surname  CreditScore Geography  Gender  Age  \\\n",
      "0          1    15634602  Hargrave          619    France  Female   42   \n",
      "1          2    15647311      Hill          608     Spain  Female   41   \n",
      "2          3    15619304      Onio          502    France  Female   42   \n",
      "3          4    15701354      Boni          699    France  Female   39   \n",
      "4          5    15737888  Mitchell          850     Spain  Female   43   \n",
      "\n",
      "   Tenure    Balance  NumOfProducts  HasCrCard  IsActiveMember  \\\n",
      "0       2       0.00              1          1               1   \n",
      "1       1   83807.86              1          0               1   \n",
      "2       8  159660.80              3          1               0   \n",
      "3       1       0.00              2          0               0   \n",
      "4       2  125510.82              1          1               1   \n",
      "\n",
      "   EstimatedSalary  Exited  \n",
      "0        101348.88       1  \n",
      "1        112542.58       0  \n",
      "2        113931.57       1  \n",
      "3         93826.63       0  \n",
      "4         79084.10       0  \n",
      "\n",
      "Dataset Information:\n",
      "<class 'pandas.core.frame.DataFrame'>\n",
      "RangeIndex: 10000 entries, 0 to 9999\n",
      "Data columns (total 14 columns):\n",
      " #   Column           Non-Null Count  Dtype  \n",
      "---  ------           --------------  -----  \n",
      " 0   RowNumber        10000 non-null  int64  \n",
      " 1   CustomerId       10000 non-null  int64  \n",
      " 2   Surname          10000 non-null  object \n",
      " 3   CreditScore      10000 non-null  int64  \n",
      " 4   Geography        10000 non-null  object \n",
      " 5   Gender           10000 non-null  object \n",
      " 6   Age              10000 non-null  int64  \n",
      " 7   Tenure           10000 non-null  int64  \n",
      " 8   Balance          10000 non-null  float64\n",
      " 9   NumOfProducts    10000 non-null  int64  \n",
      " 10  HasCrCard        10000 non-null  int64  \n",
      " 11  IsActiveMember   10000 non-null  int64  \n",
      " 12  EstimatedSalary  10000 non-null  float64\n",
      " 13  Exited           10000 non-null  int64  \n",
      "dtypes: float64(2), int64(9), object(3)\n",
      "memory usage: 1.1+ MB\n",
      "\n",
      "Basic Statistics:\n",
      "         RowNumber    CustomerId   CreditScore           Age        Tenure  \\\n",
      "count  10000.00000  1.000000e+04  10000.000000  10000.000000  10000.000000   \n",
      "mean    5000.50000  1.569094e+07    650.528800     38.921800      5.012800   \n",
      "std     2886.89568  7.193619e+04     96.653299     10.487806      2.892174   \n",
      "min        1.00000  1.556570e+07    350.000000     18.000000      0.000000   \n",
      "25%     2500.75000  1.562853e+07    584.000000     32.000000      3.000000   \n",
      "50%     5000.50000  1.569074e+07    652.000000     37.000000      5.000000   \n",
      "75%     7500.25000  1.575323e+07    718.000000     44.000000      7.000000   \n",
      "max    10000.00000  1.581569e+07    850.000000     92.000000     10.000000   \n",
      "\n",
      "             Balance  NumOfProducts    HasCrCard  IsActiveMember  \\\n",
      "count   10000.000000   10000.000000  10000.00000    10000.000000   \n",
      "mean    76485.889288       1.530200      0.70550        0.515100   \n",
      "std     62397.405202       0.581654      0.45584        0.499797   \n",
      "min         0.000000       1.000000      0.00000        0.000000   \n",
      "25%         0.000000       1.000000      0.00000        0.000000   \n",
      "50%     97198.540000       1.000000      1.00000        1.000000   \n",
      "75%    127644.240000       2.000000      1.00000        1.000000   \n",
      "max    250898.090000       4.000000      1.00000        1.000000   \n",
      "\n",
      "       EstimatedSalary        Exited  \n",
      "count     10000.000000  10000.000000  \n",
      "mean     100090.239881      0.203700  \n",
      "std       57510.492818      0.402769  \n",
      "min          11.580000      0.000000  \n",
      "25%       51002.110000      0.000000  \n",
      "50%      100193.915000      0.000000  \n",
      "75%      149388.247500      0.000000  \n",
      "max      199992.480000      1.000000  \n",
      "\n",
      "Missing Values:\n",
      "RowNumber          0\n",
      "CustomerId         0\n",
      "Surname            0\n",
      "CreditScore        0\n",
      "Geography          0\n",
      "Gender             0\n",
      "Age                0\n",
      "Tenure             0\n",
      "Balance            0\n",
      "NumOfProducts      0\n",
      "HasCrCard          0\n",
      "IsActiveMember     0\n",
      "EstimatedSalary    0\n",
      "Exited             0\n",
      "dtype: int64\n",
      "\n",
      "Dataset Shape:\n",
      "(10000, 14)\n",
      "\n",
      "Column Names:\n",
      "['RowNumber', 'CustomerId', 'Surname', 'CreditScore', 'Geography', 'Gender', 'Age', 'Tenure', 'Balance', 'NumOfProducts', 'HasCrCard', 'IsActiveMember', 'EstimatedSalary', 'Exited']\n"
     ]
    }
   ],
   "source": [
    "# Load the dataset from the local CSV file\n",
    "data_path = \"./Churn_Modelling.csv\"  # Replace with the actual path to your dataset\n",
    "df = pd.read_csv(data_path)\n",
    "\n",
    "# Display the first few rows of the dataset\n",
    "print(\"First 5 rows of the dataset:\")\n",
    "print(df.head())\n",
    "\n",
    "# Display basic information about the dataset\n",
    "print(\"\\nDataset Information:\")\n",
    "df.info()\n",
    "\n",
    "# Display basic statistics of the dataset\n",
    "print(\"\\nBasic Statistics:\")\n",
    "print(df.describe())\n",
    "\n",
    "# Check for missing values\n",
    "print(\"\\nMissing Values:\")\n",
    "print(df.isnull().sum())\n",
    "\n",
    "# Display the shape of the dataset\n",
    "print(\"\\nDataset Shape:\")\n",
    "print(df.shape)\n",
    "\n",
    "# Display the column names\n",
    "print(\"\\nColumn Names:\")\n",
    "print(df.columns.tolist())"
   ]
  },
  {
   "cell_type": "markdown",
   "metadata": {},
   "source": [
    "# Data Preprocessing\n",
    "Handle missing values, encode categorical features, and scale numerical features."
   ]
  },
  {
   "cell_type": "code",
   "execution_count": 26,
   "metadata": {},
   "outputs": [
    {
     "data": {
      "text/plain": [
       "Index(['Surname', 'Geography', 'Gender'], dtype='object')"
      ]
     },
     "execution_count": 26,
     "metadata": {},
     "output_type": "execute_result"
    }
   ],
   "source": [
    "df.select_dtypes(include=[\"object\"]).columns"
   ]
  },
  {
   "cell_type": "code",
   "execution_count": 27,
   "metadata": {},
   "outputs": [
    {
     "name": "stdout",
     "output_type": "stream",
     "text": [
      "\n",
      "First 5 rows of the preprocessed dataset:\n",
      "   RowNumber  CustomerId  CreditScore       Age    Tenure   Balance  \\\n",
      "0  -1.731878   -0.783213    -0.326221  0.293517 -1.041760 -1.225848   \n",
      "1  -1.731531   -0.606534    -0.440036  0.198164 -1.387538  0.117350   \n",
      "2  -1.731185   -0.995885    -1.536794  0.293517  1.032908  1.333053   \n",
      "3  -1.730838    0.144767     0.501521  0.007457 -1.387538 -1.225848   \n",
      "4  -1.730492    0.652659     2.063884  0.388871 -1.041760  0.785728   \n",
      "\n",
      "   NumOfProducts  HasCrCard  IsActiveMember  EstimatedSalary  ...  \\\n",
      "0      -0.911583   0.646092        0.970243         0.021886  ...   \n",
      "1      -0.911583  -1.547768        0.970243         0.216534  ...   \n",
      "2       2.527057   0.646092       -1.030670         0.240687  ...   \n",
      "3       0.807737  -1.547768       -1.030670        -0.108918  ...   \n",
      "4      -0.911583   0.646092        0.970243        -0.365276  ...   \n",
      "\n",
      "   Surname_Zotova  Surname_Zox  Surname_Zubarev  Surname_Zubareva  \\\n",
      "0               0            0                0                 0   \n",
      "1               0            0                0                 0   \n",
      "2               0            0                0                 0   \n",
      "3               0            0                0                 0   \n",
      "4               0            0                0                 0   \n",
      "\n",
      "   Surname_Zuev  Surname_Zuyev  Surname_Zuyeva  Geography_Germany  \\\n",
      "0             0              0               0                  0   \n",
      "1             0              0               0                  0   \n",
      "2             0              0               0                  0   \n",
      "3             0              0               0                  0   \n",
      "4             0              0               0                  0   \n",
      "\n",
      "   Geography_Spain  Gender_Male  \n",
      "0                0            0  \n",
      "1                1            0  \n",
      "2                0            0  \n",
      "3                0            0  \n",
      "4                1            0  \n",
      "\n",
      "[5 rows x 2945 columns]\n"
     ]
    }
   ],
   "source": [
    "# Handle missing values\n",
    "# Fill missing numerical values with the median of each column\n",
    "numerical_columns = df.select_dtypes(include=[\"float64\", \"int64\"]).columns\n",
    "numerical_columns = list(set(list(numerical_columns)) - set(['Exited'])) # Remove 'Exited' from numerical columns for correlation analysis\n",
    "\n",
    "df[numerical_columns] = df[numerical_columns].fillna(df[numerical_columns].median())\n",
    "\n",
    "# Fill missing categorical values with the mode of each column\n",
    "categorical_columns = df.select_dtypes(include=[\"object\"]).columns\n",
    "df[categorical_columns] = df[categorical_columns].fillna(df[categorical_columns].mode().iloc[0])\n",
    "\n",
    "# Encode categorical features using one-hot encoding\n",
    "df = pd.get_dummies(df, columns=categorical_columns, drop_first=True)\n",
    "\n",
    "# Scale numerical features using StandardScaler\n",
    "from sklearn.preprocessing import StandardScaler\n",
    "\n",
    "scaler = StandardScaler()\n",
    "df[numerical_columns] = scaler.fit_transform(df[numerical_columns])\n",
    "\n",
    "# Display the first few rows of the preprocessed dataset\n",
    "print(\"\\nFirst 5 rows of the preprocessed dataset:\")\n",
    "print(df.head())"
   ]
  },
  {
   "cell_type": "markdown",
   "metadata": {},
   "source": [
    "# Feature Engineering\n",
    "Create new features from existing ones to improve model performance."
   ]
  },
  {
   "cell_type": "code",
   "execution_count": 28,
   "metadata": {},
   "outputs": [
    {
     "name": "stdout",
     "output_type": "stream",
     "text": [
      "\n",
      "First 5 rows of the dataset with new features:\n",
      "   RowNumber  CustomerId  CreditScore       Age    Tenure   Balance  \\\n",
      "0  -1.731878   -0.783213    -0.326221  0.293517 -1.041760 -1.225848   \n",
      "1  -1.731531   -0.606534    -0.440036  0.198164 -1.387538  0.117350   \n",
      "2  -1.731185   -0.995885    -1.536794  0.293517  1.032908  1.333053   \n",
      "3  -1.730838    0.144767     0.501521  0.007457 -1.387538 -1.225848   \n",
      "4  -1.730492    0.652659     2.063884  0.388871 -1.041760  0.785728   \n",
      "\n",
      "   NumOfProducts  HasCrCard  IsActiveMember  EstimatedSalary  ...  \\\n",
      "0      -0.911583   0.646092        0.970243         0.021886  ...   \n",
      "1      -0.911583  -1.547768        0.970243         0.216534  ...   \n",
      "2       2.527057   0.646092       -1.030670         0.240687  ...   \n",
      "3       0.807737  -1.547768       -1.030670        -0.108918  ...   \n",
      "4      -0.911583   0.646092        0.970243        -0.365276  ...   \n",
      "\n",
      "   Surname_Zuev  Surname_Zuyev  Surname_Zuyeva  Geography_Germany  \\\n",
      "0             0              0               0                  0   \n",
      "1             0              0               0                  0   \n",
      "2             0              0               0                  0   \n",
      "3             0              0               0                  0   \n",
      "4             0              0               0                  0   \n",
      "\n",
      "   Geography_Spain  Gender_Male  BalanceSalaryRatio  TenureByAge  \\\n",
      "0                0            0          -55.983742     0.058835   \n",
      "1                1            0            0.541923     0.077944   \n",
      "2                0            0            5.538307    -0.058335   \n",
      "3                0            0           11.255818     0.077117   \n",
      "4                1            0           -2.151113     0.059154   \n",
      "\n",
      "   CreditScoreGivenAge  NumOfProductsAndHasCrCard  \n",
      "0             0.018424                  -0.588967  \n",
      "1             0.024719                   1.410920  \n",
      "2             0.086793                   1.632710  \n",
      "3            -0.027874                  -1.250189  \n",
      "4            -0.117192                  -0.588967  \n",
      "\n",
      "[5 rows x 2949 columns]\n"
     ]
    }
   ],
   "source": [
    "# Create new features from existing ones to improve model performance\n",
    "\n",
    "# Create a new feature: 'BalanceSalaryRatio' (Ratio of Balance to Estimated Salary)\n",
    "df['BalanceSalaryRatio'] = df['Balance'] / (df['EstimatedSalary'] + 1e-5)  # Adding a small value to avoid division by zero\n",
    "\n",
    "# Create a new feature: 'TenureByAge' (Ratio of Tenure to Age)\n",
    "df['TenureByAge'] = df['Tenure'] / (df['Age'] -18 + 1e-5)  # Adding a small value to avoid division by zero\n",
    "\n",
    "# Create a new feature: 'CreditScoreGivenAge' (Ratio of Credit Score to Age)\n",
    "df['CreditScoreGivenAge'] = df['CreditScore'] / (df['Age'] -18 + 1e-5)  # Adding a small value to avoid division by zero\n",
    "\n",
    "# Create a new feature: 'NumOfProductsAndHasCrCard' (Interaction between NumOfProducts and HasCrCard)\n",
    "df['NumOfProductsAndHasCrCard'] = df['NumOfProducts'] * df['HasCrCard']\n",
    "\n",
    "# Create a new feature: 'IsActiveMemberAndExited' (Interaction between IsActiveMember and Exited)\n",
    "# df['IsActiveMemberAndExited'] = df['IsActiveMember'] * df['Exited']\n",
    "\n",
    "# Display the first few rows of the dataset with new features\n",
    "print(\"\\nFirst 5 rows of the dataset with new features:\")\n",
    "print(df.head())"
   ]
  },
  {
   "cell_type": "markdown",
   "metadata": {},
   "source": [
    "# Model Training - XGBoost\n",
    "Train an XGBoost model on the prepared data."
   ]
  },
  {
   "cell_type": "code",
   "execution_count": 29,
   "metadata": {},
   "outputs": [],
   "source": [
    "# Split the dataset into features (X) and target (y)\n",
    "X = df.drop(\"Exited\", axis=1)  # Features\n",
    "y = df[\"Exited\"]  # Target variable\n",
    "\n",
    "# Split the data into training and testing sets\n",
    "X_train, X_test, y_train, y_test = train_test_split(X, y, test_size=0.2, random_state=42, stratify=y)\n"
   ]
  },
  {
   "cell_type": "code",
   "execution_count": 30,
   "metadata": {},
   "outputs": [
    {
     "data": {
      "application/vnd.microsoft.datawrangler.viewer.v0+json": {
       "columns": [
        {
         "name": "index",
         "rawType": "int64",
         "type": "integer"
        },
        {
         "name": "Exited",
         "rawType": "int64",
         "type": "integer"
        }
       ],
       "ref": "2daec834-9c1f-41ab-a5df-6de6287a53bc",
       "rows": [
        [
         "0",
         "1"
        ],
        [
         "1",
         "0"
        ],
        [
         "2",
         "1"
        ],
        [
         "3",
         "0"
        ],
        [
         "4",
         "0"
        ],
        [
         "5",
         "1"
        ],
        [
         "6",
         "0"
        ],
        [
         "7",
         "1"
        ],
        [
         "8",
         "0"
        ],
        [
         "9",
         "0"
        ],
        [
         "10",
         "0"
        ],
        [
         "11",
         "0"
        ],
        [
         "12",
         "0"
        ],
        [
         "13",
         "0"
        ],
        [
         "14",
         "0"
        ],
        [
         "15",
         "0"
        ],
        [
         "16",
         "1"
        ],
        [
         "17",
         "0"
        ],
        [
         "18",
         "0"
        ],
        [
         "19",
         "0"
        ],
        [
         "20",
         "0"
        ],
        [
         "21",
         "0"
        ],
        [
         "22",
         "1"
        ],
        [
         "23",
         "0"
        ],
        [
         "24",
         "0"
        ],
        [
         "25",
         "0"
        ],
        [
         "26",
         "0"
        ],
        [
         "27",
         "0"
        ],
        [
         "28",
         "0"
        ],
        [
         "29",
         "0"
        ],
        [
         "30",
         "1"
        ],
        [
         "31",
         "0"
        ],
        [
         "32",
         "0"
        ],
        [
         "33",
         "0"
        ],
        [
         "34",
         "0"
        ],
        [
         "35",
         "1"
        ],
        [
         "36",
         "0"
        ],
        [
         "37",
         "0"
        ],
        [
         "38",
         "0"
        ],
        [
         "39",
         "0"
        ],
        [
         "40",
         "0"
        ],
        [
         "41",
         "1"
        ],
        [
         "42",
         "0"
        ],
        [
         "43",
         "1"
        ],
        [
         "44",
         "0"
        ],
        [
         "45",
         "0"
        ],
        [
         "46",
         "1"
        ],
        [
         "47",
         "1"
        ],
        [
         "48",
         "0"
        ],
        [
         "49",
         "0"
        ]
       ],
       "shape": {
        "columns": 1,
        "rows": 10000
       }
      },
      "text/plain": [
       "0       1\n",
       "1       0\n",
       "2       1\n",
       "3       0\n",
       "4       0\n",
       "       ..\n",
       "9995    0\n",
       "9996    0\n",
       "9997    1\n",
       "9998    1\n",
       "9999    0\n",
       "Name: Exited, Length: 10000, dtype: int64"
      ]
     },
     "execution_count": 30,
     "metadata": {},
     "output_type": "execute_result"
    }
   ],
   "source": [
    "df[\"Exited\"]"
   ]
  },
  {
   "cell_type": "code",
   "execution_count": 35,
   "metadata": {},
   "outputs": [
    {
     "data": {
      "text/plain": [
       "(0    6370\n",
       " 1    1630\n",
       " Name: Exited, dtype: int64,\n",
       " 0    1593\n",
       " 1     407\n",
       " Name: Exited, dtype: int64)"
      ]
     },
     "execution_count": 35,
     "metadata": {},
     "output_type": "execute_result"
    }
   ],
   "source": [
    "y_train.value_counts(), y_test.value_counts()"
   ]
  },
  {
   "cell_type": "code",
   "execution_count": 36,
   "metadata": {},
   "outputs": [
    {
     "data": {
      "text/plain": [
       "3.9079754601226995"
      ]
     },
     "execution_count": 36,
     "metadata": {},
     "output_type": "execute_result"
    }
   ],
   "source": [
    "6370/1630"
   ]
  },
  {
   "cell_type": "code",
   "execution_count": 44,
   "metadata": {},
   "outputs": [
    {
     "name": "stderr",
     "output_type": "stream",
     "text": [
      "/Users/ganeshpatil/opt/anaconda3/envs/stable_diff/lib/python3.8/site-packages/xgboost/core.py:158: UserWarning: [08:33:05] WARNING: /Users/runner/work/xgboost/xgboost/src/learner.cc:740: \n",
      "Parameters: { \"silent\" } are not used.\n",
      "\n",
      "  warnings.warn(smsg, UserWarning)\n"
     ]
    },
    {
     "name": "stdout",
     "output_type": "stream",
     "text": [
      "Training Accuracy (XGBoost): 0.9531\n",
      "Testing Accuracy (XGBoost): 0.8580\n",
      "XGBoost model saved as 'XGB_model.pkl'.\n"
     ]
    }
   ],
   "source": [
    "# Fit Extreme Gradient Boost Classifier\n",
    "XGB = xgb.XGBClassifier(base_score=0.5, booster='gbtree', colsample_bylevel=1,colsample_bytree=1, gamma=0.01, learning_rate=0.1, max_delta_step=0,max_depth=7,\n",
    "                    min_child_weight=5, missing=np.nan, n_estimators=200,n_jobs=4, nthread=None, objective='binary:logistic', random_state=0,reg_alpha=0, \n",
    "                    reg_lambda=1, scale_pos_weight=1, seed=None, silent=True, subsample=1)\n",
    "XGB.fit(X_train, y_train)\n",
    "\n",
    "\n",
    "# Evaluate the model on the training data\n",
    "y_train_pred = XGB.predict(X_train)\n",
    "train_accuracy = accuracy_score(y_train, y_train_pred)\n",
    "print(f\"Training Accuracy (XGBoost): {train_accuracy:.4f}\")\n",
    "\n",
    "# Evaluate the model on the testing data\n",
    "y_test_pred = XGB.predict(X_test)\n",
    "test_accuracy = accuracy_score(y_test, y_test_pred)\n",
    "print(f\"Testing Accuracy (XGBoost): {test_accuracy:.4f}\")\n",
    "\n",
    "# Save the trained XGBoost model to a local directory\n",
    "joblib.dump(XGB, \"XGB_model.pkl\")\n",
    "print(\"XGBoost model saved as 'XGB_model.pkl'.\")"
   ]
  },
  {
   "cell_type": "code",
   "execution_count": 31,
   "metadata": {},
   "outputs": [
    {
     "name": "stderr",
     "output_type": "stream",
     "text": [
      "/Users/ganeshpatil/opt/anaconda3/envs/stable_diff/lib/python3.8/site-packages/xgboost/core.py:158: UserWarning: [08:24:04] WARNING: /Users/runner/work/xgboost/xgboost/src/learner.cc:740: \n",
      "Parameters: { \"use_label_encoder\" } are not used.\n",
      "\n",
      "  warnings.warn(smsg, UserWarning)\n"
     ]
    },
    {
     "name": "stdout",
     "output_type": "stream",
     "text": [
      "Training Accuracy (XGBoost): 0.9643\n",
      "Testing Accuracy (XGBoost): 0.8520\n",
      "XGBoost model saved as 'xgb_model.pkl'.\n"
     ]
    }
   ],
   "source": [
    "# Train an XGBoost model\n",
    "xgb_model = xgb.XGBClassifier(\n",
    "    objective=\"binary:logistic\",\n",
    "    eval_metric=\"logloss\",\n",
    "    n_estimators=100,\n",
    "    use_label_encoder=False,\n",
    "    random_state=42\n",
    ")\n",
    "\n",
    "# Fit the model on the training data\n",
    "xgb_model.fit(X_train, y_train)\n",
    "\n",
    "# Evaluate the model on the training data\n",
    "y_train_pred = xgb_model.predict(X_train)\n",
    "train_accuracy = accuracy_score(y_train, y_train_pred)\n",
    "print(f\"Training Accuracy (XGBoost): {train_accuracy:.4f}\")\n",
    "\n",
    "# Evaluate the model on the testing data\n",
    "y_test_pred = xgb_model.predict(X_test)\n",
    "test_accuracy = accuracy_score(y_test, y_test_pred)\n",
    "print(f\"Testing Accuracy (XGBoost): {test_accuracy:.4f}\")\n",
    "\n",
    "# Save the trained XGBoost model to a local directory\n",
    "joblib.dump(xgb_model, \"xgb_model.pkl\")\n",
    "print(\"XGBoost model saved as 'xgb_model.pkl'.\")"
   ]
  },
  {
   "cell_type": "markdown",
   "metadata": {},
   "source": [
    "# Model Training - Random Forest\n",
    "Train a Random Forest model on the prepared data."
   ]
  },
  {
   "cell_type": "code",
   "execution_count": 53,
   "metadata": {},
   "outputs": [
    {
     "name": "stdout",
     "output_type": "stream",
     "text": [
      "Training Accuracy (Random Forest): 0.9946\n",
      "Testing Accuracy (Random Forest): 0.8425\n",
      "Random Forest model saved as 'rf_model.pkl'.\n"
     ]
    }
   ],
   "source": [
    "# Train a Random Forest model\n",
    "rf_model = RandomForestClassifier(\n",
    "    n_estimators=20,  # Number of trees in the forest\n",
    "    max_depth=None,  # Maximum depth of the tree\n",
    "    random_state=42,  # Random state for reproducibility\n",
    "    class_weight=\"balanced\",  # Handle class imbalance\n",
    "    n_jobs=4 # Number of jobs to run in parallel\n",
    ")\n",
    "\n",
    "# Fit the model on the training data\n",
    "rf_model.fit(X_train, y_train)\n",
    "\n",
    "# Evaluate the model on the training data\n",
    "y_train_pred_rf = rf_model.predict(X_train)\n",
    "train_accuracy_rf = accuracy_score(y_train, y_train_pred_rf)\n",
    "print(f\"Training Accuracy (Random Forest): {train_accuracy_rf:.4f}\")\n",
    "\n",
    "# Evaluate the model on the testing data\n",
    "y_test_pred_rf = rf_model.predict(X_test)\n",
    "test_accuracy_rf = accuracy_score(y_test, y_test_pred_rf)\n",
    "print(f\"Testing Accuracy (Random Forest): {test_accuracy_rf:.4f}\")\n",
    "\n",
    "# Save the trained Random Forest model to a local directory\n",
    "joblib.dump(rf_model, \"rf_model.pkl\")\n",
    "print(\"Random Forest model saved as 'rf_model.pkl'.\")"
   ]
  },
  {
   "cell_type": "markdown",
   "metadata": {},
   "source": [
    "# Model Training - LightGBM\n",
    "Train a LightGBM model on the prepared data."
   ]
  },
  {
   "cell_type": "code",
   "execution_count": 60,
   "metadata": {},
   "outputs": [
    {
     "name": "stdout",
     "output_type": "stream",
     "text": [
      "[LightGBM] [Warning] Found whitespace in feature_names, replace with underlines\n",
      "[LightGBM] [Info] Number of positive: 1630, number of negative: 6370\n",
      "[LightGBM] [Info] Auto-choosing row-wise multi-threading, the overhead of testing was 0.000868 seconds.\n",
      "You can set `force_row_wise=true` to remove the overhead.\n",
      "And if memory is not enough, you can set `force_col_wise=true`.\n",
      "[LightGBM] [Info] Total Bins 2161\n",
      "[LightGBM] [Info] Number of data points in the train set: 8000, number of used features: 25\n",
      "[LightGBM] [Info] [binary:BoostFromScore]: pavg=0.203750 -> initscore=-1.363019\n",
      "[LightGBM] [Info] Start training from score -1.363019\n",
      "[LightGBM] [Warning] No further splits with positive gain, best gain: -inf\n",
      "[LightGBM] [Warning] No further splits with positive gain, best gain: -inf\n",
      "[LightGBM] [Warning] No further splits with positive gain, best gain: -inf\n",
      "[LightGBM] [Warning] No further splits with positive gain, best gain: -inf\n",
      "[LightGBM] [Warning] No further splits with positive gain, best gain: -inf\n",
      "[LightGBM] [Warning] No further splits with positive gain, best gain: -inf\n",
      "[LightGBM] [Warning] No further splits with positive gain, best gain: -inf\n",
      "[LightGBM] [Warning] No further splits with positive gain, best gain: -inf\n",
      "[LightGBM] [Warning] No further splits with positive gain, best gain: -inf\n",
      "[LightGBM] [Warning] No further splits with positive gain, best gain: -inf\n",
      "[LightGBM] [Warning] No further splits with positive gain, best gain: -inf\n",
      "[LightGBM] [Warning] No further splits with positive gain, best gain: -inf\n",
      "[LightGBM] [Warning] No further splits with positive gain, best gain: -inf\n",
      "[LightGBM] [Warning] No further splits with positive gain, best gain: -inf\n",
      "[LightGBM] [Warning] No further splits with positive gain, best gain: -inf\n",
      "[LightGBM] [Warning] No further splits with positive gain, best gain: -inf\n",
      "[LightGBM] [Warning] No further splits with positive gain, best gain: -inf\n",
      "[LightGBM] [Warning] No further splits with positive gain, best gain: -inf\n",
      "[LightGBM] [Warning] No further splits with positive gain, best gain: -inf\n",
      "[LightGBM] [Warning] No further splits with positive gain, best gain: -inf\n",
      "[LightGBM] [Warning] No further splits with positive gain, best gain: -inf\n",
      "[LightGBM] [Warning] No further splits with positive gain, best gain: -inf\n",
      "[LightGBM] [Warning] No further splits with positive gain, best gain: -inf\n",
      "[LightGBM] [Warning] No further splits with positive gain, best gain: -inf\n",
      "[LightGBM] [Warning] No further splits with positive gain, best gain: -inf\n",
      "[LightGBM] [Warning] No further splits with positive gain, best gain: -inf\n",
      "[LightGBM] [Warning] No further splits with positive gain, best gain: -inf\n",
      "[LightGBM] [Warning] No further splits with positive gain, best gain: -inf\n",
      "[LightGBM] [Warning] No further splits with positive gain, best gain: -inf\n",
      "[LightGBM] [Warning] No further splits with positive gain, best gain: -inf\n",
      "[LightGBM] [Warning] No further splits with positive gain, best gain: -inf\n",
      "[LightGBM] [Warning] No further splits with positive gain, best gain: -inf\n",
      "[LightGBM] [Warning] No further splits with positive gain, best gain: -inf\n",
      "[LightGBM] [Warning] No further splits with positive gain, best gain: -inf\n",
      "[LightGBM] [Warning] No further splits with positive gain, best gain: -inf\n",
      "[LightGBM] [Warning] No further splits with positive gain, best gain: -inf\n",
      "[LightGBM] [Warning] No further splits with positive gain, best gain: -inf\n",
      "[LightGBM] [Warning] No further splits with positive gain, best gain: -inf\n",
      "[LightGBM] [Warning] No further splits with positive gain, best gain: -inf\n",
      "[LightGBM] [Warning] No further splits with positive gain, best gain: -inf\n",
      "[LightGBM] [Warning] No further splits with positive gain, best gain: -inf\n",
      "[LightGBM] [Warning] No further splits with positive gain, best gain: -inf\n",
      "[LightGBM] [Warning] No further splits with positive gain, best gain: -inf\n",
      "[LightGBM] [Warning] No further splits with positive gain, best gain: -inf\n",
      "[LightGBM] [Warning] No further splits with positive gain, best gain: -inf\n",
      "[LightGBM] [Warning] No further splits with positive gain, best gain: -inf\n",
      "[LightGBM] [Warning] No further splits with positive gain, best gain: -inf\n",
      "[LightGBM] [Warning] No further splits with positive gain, best gain: -inf\n",
      "[LightGBM] [Warning] No further splits with positive gain, best gain: -inf\n",
      "[LightGBM] [Warning] No further splits with positive gain, best gain: -inf\n",
      "[LightGBM] [Warning] No further splits with positive gain, best gain: -inf\n",
      "[LightGBM] [Warning] No further splits with positive gain, best gain: -inf\n",
      "[LightGBM] [Warning] No further splits with positive gain, best gain: -inf\n",
      "[LightGBM] [Warning] No further splits with positive gain, best gain: -inf\n",
      "[LightGBM] [Warning] No further splits with positive gain, best gain: -inf\n",
      "[LightGBM] [Warning] No further splits with positive gain, best gain: -inf\n",
      "[LightGBM] [Warning] No further splits with positive gain, best gain: -inf\n",
      "[LightGBM] [Warning] No further splits with positive gain, best gain: -inf\n",
      "[LightGBM] [Warning] No further splits with positive gain, best gain: -inf\n",
      "[LightGBM] [Warning] No further splits with positive gain, best gain: -inf\n",
      "[LightGBM] [Warning] No further splits with positive gain, best gain: -inf\n",
      "[LightGBM] [Warning] No further splits with positive gain, best gain: -inf\n",
      "[LightGBM] [Warning] No further splits with positive gain, best gain: -inf\n",
      "[LightGBM] [Warning] No further splits with positive gain, best gain: -inf\n",
      "[LightGBM] [Warning] No further splits with positive gain, best gain: -inf\n",
      "[LightGBM] [Warning] No further splits with positive gain, best gain: -inf\n",
      "[LightGBM] [Warning] No further splits with positive gain, best gain: -inf\n",
      "[LightGBM] [Warning] No further splits with positive gain, best gain: -inf\n",
      "[LightGBM] [Warning] No further splits with positive gain, best gain: -inf\n",
      "[LightGBM] [Warning] No further splits with positive gain, best gain: -inf\n",
      "[LightGBM] [Warning] No further splits with positive gain, best gain: -inf\n",
      "[LightGBM] [Warning] No further splits with positive gain, best gain: -inf\n",
      "[LightGBM] [Warning] No further splits with positive gain, best gain: -inf\n",
      "[LightGBM] [Warning] No further splits with positive gain, best gain: -inf\n",
      "[LightGBM] [Warning] No further splits with positive gain, best gain: -inf\n",
      "[LightGBM] [Warning] No further splits with positive gain, best gain: -inf\n",
      "[LightGBM] [Warning] No further splits with positive gain, best gain: -inf\n",
      "[LightGBM] [Warning] No further splits with positive gain, best gain: -inf\n",
      "[LightGBM] [Warning] No further splits with positive gain, best gain: -inf\n",
      "[LightGBM] [Warning] No further splits with positive gain, best gain: -inf\n",
      "[LightGBM] [Warning] No further splits with positive gain, best gain: -inf\n",
      "[LightGBM] [Warning] No further splits with positive gain, best gain: -inf\n",
      "[LightGBM] [Warning] No further splits with positive gain, best gain: -inf\n",
      "[LightGBM] [Warning] No further splits with positive gain, best gain: -inf\n",
      "[LightGBM] [Warning] No further splits with positive gain, best gain: -inf\n",
      "[LightGBM] [Warning] No further splits with positive gain, best gain: -inf\n",
      "[LightGBM] [Warning] No further splits with positive gain, best gain: -inf\n",
      "[LightGBM] [Warning] No further splits with positive gain, best gain: -inf\n",
      "[LightGBM] [Warning] No further splits with positive gain, best gain: -inf\n",
      "[LightGBM] [Warning] No further splits with positive gain, best gain: -inf\n",
      "[LightGBM] [Warning] No further splits with positive gain, best gain: -inf\n",
      "[LightGBM] [Warning] No further splits with positive gain, best gain: -inf\n",
      "[LightGBM] [Warning] No further splits with positive gain, best gain: -inf\n",
      "[LightGBM] [Warning] No further splits with positive gain, best gain: -inf\n",
      "[LightGBM] [Warning] No further splits with positive gain, best gain: -inf\n",
      "[LightGBM] [Warning] No further splits with positive gain, best gain: -inf\n",
      "[LightGBM] [Warning] No further splits with positive gain, best gain: -inf\n",
      "[LightGBM] [Warning] No further splits with positive gain, best gain: -inf\n",
      "Training Accuracy (LightGBM): 0.8809\n",
      "Testing Accuracy (LightGBM): 0.8690\n",
      "LightGBM model saved as 'lgb_model.pkl'.\n"
     ]
    }
   ],
   "source": [
    "# Train a LightGBM model\n",
    "lgb_model = lgb.LGBMClassifier(\n",
    "    objective=\"binary\",\n",
    "    boosting_type=\"gbdt\",\n",
    "    num_leaves=31,\n",
    "    learning_rate=0.05,\n",
    "    n_estimators=100,\n",
    "    random_state=42,\n",
    "    max_depth=5,\n",
    "    # scale_pos_weight=4,  # Handle class imbalance\n",
    "    # class_weight=\"balanced\",  # Handle class imbalance\n",
    ")\n",
    "\n",
    "# Fit the model on the training data\n",
    "lgb_model.fit(X_train, y_train)\n",
    "\n",
    "# Evaluate the model on the training data\n",
    "y_train_pred_lgb = lgb_model.predict(X_train)\n",
    "train_accuracy_lgb = accuracy_score(y_train, y_train_pred_lgb)\n",
    "print(f\"Training Accuracy (LightGBM): {train_accuracy_lgb:.4f}\")\n",
    "\n",
    "# Evaluate the model on the testing data\n",
    "y_test_pred_lgb = lgb_model.predict(X_test)\n",
    "test_accuracy_lgb = accuracy_score(y_test, y_test_pred_lgb)\n",
    "print(f\"Testing Accuracy (LightGBM): {test_accuracy_lgb:.4f}\")\n",
    "\n",
    "# Save the trained LightGBM model to a local directory\n",
    "joblib.dump(lgb_model, \"lgb_model.pkl\")\n",
    "print(\"LightGBM model saved as 'lgb_model.pkl'.\")"
   ]
  },
  {
   "cell_type": "markdown",
   "metadata": {},
   "source": [
    "# Ensemble Model Creation\n",
    "Create an ensemble model using the predictions from XGBoost, Random Forest, and LightGBM."
   ]
  },
  {
   "cell_type": "code",
   "execution_count": 61,
   "metadata": {},
   "outputs": [
    {
     "data": {
      "application/vnd.microsoft.datawrangler.viewer.v0+json": {
       "columns": [
        {
         "name": "index",
         "rawType": "int64",
         "type": "integer"
        },
        {
         "name": "XGBoost",
         "rawType": "float32",
         "type": "float"
        },
        {
         "name": "LightGBM",
         "rawType": "float64",
         "type": "float"
        }
       ],
       "ref": "27dc9fe3-86a9-4a27-9650-e4600bc86132",
       "rows": [
        [
         "0",
         "0.9861027",
         "0.9394385961835966"
        ],
        [
         "1",
         "0.7375192",
         "0.29326705191062963"
        ],
        [
         "2",
         "0.21553616",
         "0.26388058886605015"
        ],
        [
         "3",
         "0.019664401",
         "0.020108123389782108"
        ],
        [
         "4",
         "0.23901135",
         "0.27262425861599426"
        ]
       ],
       "shape": {
        "columns": 2,
        "rows": 5
       }
      },
      "text/html": [
       "<div>\n",
       "<style scoped>\n",
       "    .dataframe tbody tr th:only-of-type {\n",
       "        vertical-align: middle;\n",
       "    }\n",
       "\n",
       "    .dataframe tbody tr th {\n",
       "        vertical-align: top;\n",
       "    }\n",
       "\n",
       "    .dataframe thead th {\n",
       "        text-align: right;\n",
       "    }\n",
       "</style>\n",
       "<table border=\"1\" class=\"dataframe\">\n",
       "  <thead>\n",
       "    <tr style=\"text-align: right;\">\n",
       "      <th></th>\n",
       "      <th>XGBoost</th>\n",
       "      <th>LightGBM</th>\n",
       "    </tr>\n",
       "  </thead>\n",
       "  <tbody>\n",
       "    <tr>\n",
       "      <th>0</th>\n",
       "      <td>0.986103</td>\n",
       "      <td>0.939439</td>\n",
       "    </tr>\n",
       "    <tr>\n",
       "      <th>1</th>\n",
       "      <td>0.737519</td>\n",
       "      <td>0.293267</td>\n",
       "    </tr>\n",
       "    <tr>\n",
       "      <th>2</th>\n",
       "      <td>0.215536</td>\n",
       "      <td>0.263881</td>\n",
       "    </tr>\n",
       "    <tr>\n",
       "      <th>3</th>\n",
       "      <td>0.019664</td>\n",
       "      <td>0.020108</td>\n",
       "    </tr>\n",
       "    <tr>\n",
       "      <th>4</th>\n",
       "      <td>0.239011</td>\n",
       "      <td>0.272624</td>\n",
       "    </tr>\n",
       "  </tbody>\n",
       "</table>\n",
       "</div>"
      ],
      "text/plain": [
       "    XGBoost  LightGBM\n",
       "0  0.986103  0.939439\n",
       "1  0.737519  0.293267\n",
       "2  0.215536  0.263881\n",
       "3  0.019664  0.020108\n",
       "4  0.239011  0.272624"
      ]
     },
     "execution_count": 61,
     "metadata": {},
     "output_type": "execute_result"
    }
   ],
   "source": [
    "predictions_train = pd.DataFrame()#X_train.copy()\n",
    "predictions_train['XGBoost'] = xgb_model.predict_proba(X_train)[:, 1]\n",
    "predictions_train['LightGBM'] = lgb_model.predict_proba(X_train)[:, 1]\n",
    "\n",
    "predictions_train.head()"
   ]
  },
  {
   "cell_type": "code",
   "execution_count": 62,
   "metadata": {},
   "outputs": [
    {
     "name": "stdout",
     "output_type": "stream",
     "text": [
      "[LightGBM] [Info] Number of positive: 1630, number of negative: 6370\n",
      "[LightGBM] [Info] Auto-choosing row-wise multi-threading, the overhead of testing was 0.000155 seconds.\n",
      "You can set `force_row_wise=true` to remove the overhead.\n",
      "And if memory is not enough, you can set `force_col_wise=true`.\n",
      "[LightGBM] [Info] Total Bins 510\n",
      "[LightGBM] [Info] Number of data points in the train set: 8000, number of used features: 2\n",
      "[LightGBM] [Info] [binary:BoostFromScore]: pavg=0.203750 -> initscore=-1.363019\n",
      "[LightGBM] [Info] Start training from score -1.363019\n",
      "Training Accuracy (Ensemble Model): 0.9926\n",
      "Testing Accuracy (Ensemble Model): 0.8195\n",
      "Ensemble model saved as 'ensemble_model.pkl'.\n"
     ]
    }
   ],
   "source": [
    "from sklearn.linear_model import LogisticRegression\n",
    "from sklearn.ensemble import VotingClassifier\n",
    "\n",
    "# Create a DataFrame to store predictions from all models\n",
    "predictions_train = pd.DataFrame()#X_train.copy()\n",
    "predictions_train['XGBoost'] = xgb_model.predict_proba(X_train)[:, 1]\n",
    "predictions_train['LightGBM'] = lgb_model.predict_proba(X_train)[:, 1]\n",
    "# predictions_train = pd.DataFrame({\n",
    "#     \"XGBoost\": xgb_model.predict_proba(X_train)[:, 1],\n",
    "#     # \"RandomForest\": rf_model.predict_proba(X_train)[:, 1],\n",
    "#     \"LightGBM\": lgb_model.predict_proba(X_train)[:, 1]\n",
    "# })\n",
    "\n",
    "predictions_test = pd.DataFrame()#X_test.copy()\n",
    "predictions_test['XGBoost'] = xgb_model.predict_proba(X_test)[:, 1]\n",
    "predictions_test['LightGBM'] = lgb_model.predict_proba(X_test)[:, 1]\n",
    "\n",
    "# predictions_test = pd.DataFrame({\n",
    "#     \"XGBoost\": xgb_model.predict_proba(X_test)[:, 1],\n",
    "#     # \"RandomForest\": rf_model.predict_proba(X_test)[:, 1],\n",
    "#     \"LightGBM\": lgb_model.predict_proba(X_test)[:, 1]\n",
    "# })\n",
    "\n",
    "# Create a level-2 ensemble model using Logistic Regression\n",
    "ensemble_model = lgb.LGBMClassifier(\n",
    "    objective=\"binary\",\n",
    "    boosting_type=\"gbdt\",\n",
    "    num_leaves=31,\n",
    "    learning_rate=0.05,\n",
    "    n_estimators=100,\n",
    "    random_state=42\n",
    ")\n",
    "\n",
    "# Train the ensemble model on the predictions of the base models\n",
    "ensemble_model.fit(predictions_train, y_train)\n",
    "\n",
    "# Evaluate the ensemble model on the training data\n",
    "y_train_pred_ensemble = ensemble_model.predict(predictions_train)\n",
    "train_accuracy_ensemble = accuracy_score(y_train, y_train_pred_ensemble)\n",
    "print(f\"Training Accuracy (Ensemble Model): {train_accuracy_ensemble:.4f}\")\n",
    "\n",
    "# Evaluate the ensemble model on the testing data\n",
    "y_test_pred_ensemble = ensemble_model.predict(predictions_test)\n",
    "test_accuracy_ensemble = accuracy_score(y_test, y_test_pred_ensemble)\n",
    "print(f\"Testing Accuracy (Ensemble Model): {test_accuracy_ensemble:.4f}\")\n",
    "\n",
    "# Save the ensemble model to a local directory\n",
    "joblib.dump(ensemble_model, \"ensemble_model.pkl\")\n",
    "print(\"Ensemble model saved as 'ensemble_model.pkl'.\")"
   ]
  },
  {
   "cell_type": "markdown",
   "metadata": {},
   "source": [
    "# Model Evaluation\n",
    "Evaluate the performance of each model (XGBoost, Random Forest, LightGBM, and Ensemble) on both the training and test datasets using appropriate metrics."
   ]
  },
  {
   "cell_type": "code",
   "execution_count": 63,
   "metadata": {},
   "outputs": [
    {
     "name": "stdout",
     "output_type": "stream",
     "text": [
      "\n",
      "XGBoost Model Evaluation:\n",
      "Training Metrics:\n",
      "Accuracy: 0.9531\n",
      "Precision: 0.9722\n",
      "Recall: 0.7926\n",
      "F1 Score: 0.8733\n",
      "ROC AUC: 0.8934\n",
      "\n",
      "Testing Metrics:\n",
      "Accuracy: 0.8580\n",
      "Precision: 0.7189\n",
      "Recall: 0.4963\n",
      "F1 Score: 0.5872\n",
      "ROC AUC: 0.7234\n",
      "\n",
      "Random Forest Model Evaluation:\n",
      "Training Metrics:\n",
      "Accuracy: 0.9946\n",
      "Precision: 0.9987\n",
      "Recall: 0.9748\n",
      "F1 Score: 0.9867\n",
      "ROC AUC: 0.9873\n",
      "\n",
      "Testing Metrics:\n",
      "Accuracy: 0.8425\n",
      "Precision: 0.8026\n",
      "Recall: 0.2998\n",
      "F1 Score: 0.4365\n",
      "ROC AUC: 0.6405\n",
      "\n",
      "LightGBM Model Evaluation:\n",
      "Training Metrics:\n",
      "Accuracy: 0.8809\n",
      "Precision: 0.8552\n",
      "Recall: 0.5000\n",
      "F1 Score: 0.6310\n",
      "ROC AUC: 0.7392\n",
      "\n",
      "Testing Metrics:\n",
      "Accuracy: 0.8690\n",
      "Precision: 0.7984\n",
      "Recall: 0.4767\n",
      "F1 Score: 0.5969\n",
      "ROC AUC: 0.7229\n",
      "\n",
      "Ensemble Model Evaluation:\n",
      "Training Metrics:\n",
      "Accuracy: 0.9926\n",
      "Precision: 0.9870\n",
      "Recall: 0.9767\n",
      "F1 Score: 0.9818\n",
      "ROC AUC: 0.9867\n",
      "\n",
      "Testing Metrics:\n",
      "Accuracy: 0.8195\n",
      "Precision: 0.5657\n",
      "Recall: 0.4865\n",
      "F1 Score: 0.5231\n",
      "ROC AUC: 0.6955\n"
     ]
    }
   ],
   "source": [
    "# Evaluate the performance of each model on the training and testing datasets\n",
    "from sklearn.metrics import roc_auc_score, precision_score, recall_score, f1_score\n",
    "\n",
    "# Define a function to evaluate models\n",
    "def evaluate_model(name, y_train, y_train_pred, y_test, y_test_pred):\n",
    "    print(f\"\\n{name} Model Evaluation:\")\n",
    "    print(\"Training Metrics:\")\n",
    "    print(f\"Accuracy: {accuracy_score(y_train, y_train_pred):.4f}\")\n",
    "    print(f\"Precision: {precision_score(y_train, y_train_pred):.4f}\")\n",
    "    print(f\"Recall: {recall_score(y_train, y_train_pred):.4f}\")\n",
    "    print(f\"F1 Score: {f1_score(y_train, y_train_pred):.4f}\")\n",
    "    print(f\"ROC AUC: {roc_auc_score(y_train, y_train_pred):.4f}\")\n",
    "    \n",
    "    print(\"\\nTesting Metrics:\")\n",
    "    print(f\"Accuracy: {accuracy_score(y_test, y_test_pred):.4f}\")\n",
    "    print(f\"Precision: {precision_score(y_test, y_test_pred):.4f}\")\n",
    "    print(f\"Recall: {recall_score(y_test, y_test_pred):.4f}\")\n",
    "    print(f\"F1 Score: {f1_score(y_test, y_test_pred):.4f}\")\n",
    "    print(f\"ROC AUC: {roc_auc_score(y_test, y_test_pred):.4f}\")\n",
    "\n",
    "# Evaluate XGBoost model\n",
    "evaluate_model(\"XGBoost\", y_train, y_train_pred, y_test, y_test_pred)\n",
    "\n",
    "# Evaluate Random Forest model\n",
    "evaluate_model(\"Random Forest\", y_train, y_train_pred_rf, y_test, y_test_pred_rf)\n",
    "\n",
    "# Evaluate LightGBM model\n",
    "evaluate_model(\"LightGBM\", y_train, y_train_pred_lgb, y_test, y_test_pred_lgb)\n",
    "\n",
    "# Evaluate Ensemble model\n",
    "evaluate_model(\"Ensemble\", y_train, y_train_pred_ensemble, y_test, y_test_pred_ensemble)"
   ]
  },
  {
   "cell_type": "markdown",
   "metadata": {},
   "source": [
    "# Model Selection\n",
    "Select the best-performing model based on the evaluation results."
   ]
  },
  {
   "cell_type": "code",
   "execution_count": 64,
   "metadata": {},
   "outputs": [],
   "source": [
    "# model_performance.get "
   ]
  },
  {
   "cell_type": "code",
   "execution_count": 65,
   "metadata": {},
   "outputs": [
    {
     "name": "stdout",
     "output_type": "stream",
     "text": [
      "\n",
      "Best Model: LightGBM\n",
      "Testing Accuracy of Best Model: 0.8690\n",
      "LightGBM saved as 'lightgbm_best_model.pkl'.\n"
     ]
    }
   ],
   "source": [
    "# Compare the performance of all models and select the best-performing model\n",
    "model_performance = {\n",
    "    \"XGBoost\": test_accuracy,\n",
    "    \"Random Forest\": test_accuracy_rf,\n",
    "    \"LightGBM\": test_accuracy_lgb,\n",
    "    \"Ensemble\": test_accuracy_ensemble\n",
    "}\n",
    "\n",
    "# Find the model with the highest testing accuracy\n",
    "best_model_name = max(model_performance, key=model_performance.get)\n",
    "best_model_accuracy = model_performance[best_model_name]\n",
    "\n",
    "print(f\"\\nBest Model: {best_model_name}\")\n",
    "print(f\"Testing Accuracy of Best Model: {best_model_accuracy:.4f}\")\n",
    "\n",
    "# Save the name of the best model for further use\n",
    "best_model = None\n",
    "if best_model_name == \"XGBoost\":\n",
    "    best_model = xgb_model\n",
    "elif best_model_name == \"Random Forest\":\n",
    "    best_model = rf_model\n",
    "elif best_model_name == \"LightGBM\":\n",
    "    best_model = lgb_model\n",
    "elif best_model_name == \"Ensemble\":\n",
    "    best_model = ensemble_model\n",
    "\n",
    "# Save the best model to a local directory\n",
    "joblib.dump(best_model, f\"{best_model_name.lower().replace(' ', '_')}_best_model.pkl\")\n",
    "print(f\"{best_model_name} saved as '{best_model_name.lower().replace(' ', '_')}_best_model.pkl'.\")"
   ]
  },
  {
   "cell_type": "markdown",
   "metadata": {},
   "source": [
    "# Save Models\n",
    "Save the trained models to a local directory for future use."
   ]
  },
  {
   "cell_type": "code",
   "execution_count": 65,
   "metadata": {},
   "outputs": [
    {
     "name": "stdout",
     "output_type": "stream",
     "text": [
      "mkdir: models: File exists\n"
     ]
    }
   ],
   "source": [
    "!mkdir models"
   ]
  },
  {
   "cell_type": "code",
   "execution_count": 66,
   "metadata": {},
   "outputs": [
    {
     "name": "stdout",
     "output_type": "stream",
     "text": [
      "Churn_Modelling.csv                  lightgbm_best_model.pkl\n",
      "bank-customer-churn-prediction.ipynb \u001b[34mmodels\u001b[m\u001b[m\n",
      "ensemble_best_model.pkl              rf_model.pkl\n",
      "ensemble_model.pkl                   xgb_model.pkl\n",
      "lgb_model.pkl\n"
     ]
    }
   ],
   "source": [
    "!ls "
   ]
  },
  {
   "cell_type": "code",
   "execution_count": 66,
   "metadata": {},
   "outputs": [
    {
     "name": "stdout",
     "output_type": "stream",
     "text": [
      "All models have been saved to the 'models' directory.\n"
     ]
    }
   ],
   "source": [
    "# Save all trained models to a local directory\n",
    "joblib.dump(xgb_model, \"models/xgb_model.pkl\")  # Save XGBoost model\n",
    "joblib.dump(rf_model, \"models/rf_model.pkl\")  # Save Random Forest model\n",
    "joblib.dump(lgb_model, \"models/lgb_model.pkl\")  # Save LightGBM model\n",
    "joblib.dump(ensemble_model, \"models/ensemble_model.pkl\")  # Save Ensemble model\n",
    "\n",
    "# Save the best model separately\n",
    "joblib.dump(best_model, f\"models/{best_model_name.lower().replace(' ', '_')}_best_model.pkl\")\n",
    "\n",
    "print(\"All models have been saved to the 'models' directory.\")"
   ]
  },
  {
   "cell_type": "code",
   "execution_count": 67,
   "metadata": {},
   "outputs": [
    {
     "name": "stdout",
     "output_type": "stream",
     "text": [
      "total 15408\n",
      "-rw-r--r--@ 1 ganeshpatil  staff   1.1K May 25 09:09 ensemble_best_model.pkl\n",
      "-rw-r--r--@ 1 ganeshpatil  staff   366K Jun 19 08:41 xgb_model.pkl\n",
      "-rw-r--r--@ 1 ganeshpatil  staff   5.8M Jun 19 08:41 rf_model.pkl\n",
      "-rw-r--r--@ 1 ganeshpatil  staff   334K Jun 19 08:41 lgb_model.pkl\n",
      "-rw-r--r--@ 1 ganeshpatil  staff   338K Jun 19 08:41 ensemble_model.pkl\n",
      "-rw-r--r--@ 1 ganeshpatil  staff   334K Jun 19 08:41 lightgbm_best_model.pkl\n"
     ]
    }
   ],
   "source": [
    "!ls -lrth models/ "
   ]
  },
  {
   "cell_type": "markdown",
   "metadata": {},
   "source": [
    "# Feature Importance\n",
    "Extract and visualize feature importances from the selected model."
   ]
  },
  {
   "cell_type": "code",
   "execution_count": 68,
   "metadata": {},
   "outputs": [
    {
     "name": "stdout",
     "output_type": "stream",
     "text": [
      "\n",
      "Top 10 Most Important Features:\n",
      "                        Feature  Importance\n",
      "6                 NumOfProducts    0.139605\n",
      "8                IsActiveMember    0.099486\n",
      "3                           Age    0.073265\n",
      "2941          Geography_Germany    0.065612\n",
      "5                       Balance    0.028696\n",
      "2943                Gender_Male    0.025943\n",
      "2942            Geography_Spain    0.020999\n",
      "2947  NumOfProductsAndHasCrCard    0.018751\n",
      "2944         BalanceSalaryRatio    0.017543\n",
      "2946        CreditScoreGivenAge    0.017209\n"
     ]
    },
    {
     "data": {
      "image/png": "[encoded data removed]",
      "text/plain": [
       "<Figure size 1000x600 with 1 Axes>"
      ]
     },
     "metadata": {},
     "output_type": "display_data"
    }
   ],
   "source": [
    "# Extract and visualize feature importances from the selected model\n",
    "\n",
    "# Check if the best model supports feature importance extraction\n",
    "\n",
    "best_model = xgb_model # Replace with the actual best model if needed\n",
    "best_model_name = 'xgb_model'  # Replace with the actual best model name if needed\n",
    "\n",
    "\n",
    "if hasattr(best_model, \"feature_importances_\"):\n",
    "    # Extract feature importances\n",
    "    feature_importances = best_model.feature_importances_\n",
    "    feature_names = X.columns\n",
    "\n",
    "    # Create a DataFrame for feature importances\n",
    "    feature_importance_df = pd.DataFrame({\n",
    "        \"Feature\": feature_names,\n",
    "        \"Importance\": feature_importances\n",
    "    }).sort_values(by=\"Importance\", ascending=False)\n",
    "\n",
    "    # Display the top 10 most important features\n",
    "    print(\"\\nTop 10 Most Important Features:\")\n",
    "    print(feature_importance_df.head(10))\n",
    "\n",
    "    # Visualize feature importances\n",
    "    plt.figure(figsize=(10, 6))\n",
    "    sns.barplot(\n",
    "        x=\"Importance\",\n",
    "        y=\"Feature\",\n",
    "        data=feature_importance_df.head(10),\n",
    "        palette=\"viridis\"\n",
    "    )\n",
    "    plt.title(f\"Top 10 Feature Importances ({best_model_name})\")\n",
    "    plt.xlabel(\"Importance\")\n",
    "    plt.ylabel(\"Feature\")\n",
    "    plt.tight_layout()\n",
    "    plt.show()\n",
    "else:\n",
    "    print(f\"The selected model ({best_model_name}) does not support feature importance extraction.\")"
   ]
  },
  {
   "cell_type": "markdown",
   "metadata": {},
   "source": [
    "# Recommendations\n",
    "Provide business recommendations based on the feature importances and EDA findings."
   ]
  },
  {
   "cell_type": "code",
   "execution_count": 69,
   "metadata": {},
   "outputs": [
    {
     "name": "stdout",
     "output_type": "stream",
     "text": [
      "\n",
      "Business Recommendations:\n",
      "1. Promote cross-selling opportunities to customers with fewer products.\n",
      "2. Engage inactive members with personalized offers to increase activity.\n",
      "3. Target younger customers with tailored products to improve retention.\n",
      "4. Address specific needs of customers in Germany to improve satisfaction.\n",
      "5. Focus on customer retention strategies for the Spanish market.\n",
      "6. Encourage customers with high balance-to-salary ratios to invest in premium products.\n"
     ]
    }
   ],
   "source": [
    "# Recommendations based on feature importances and EDA findings\n",
    "\n",
    "# Extract the top features from the feature importance DataFrame\n",
    "top_features = feature_importance_df.head(10)\n",
    "\n",
    "# Generate recommendations based on the top features\n",
    "recommendations = []\n",
    "\n",
    "for feature in top_features[\"Feature\"]:\n",
    "    if feature == \"CreditScore\":\n",
    "        recommendations.append(\"Focus on improving customer credit scores by offering financial literacy programs.\")\n",
    "    elif feature == \"Age\":\n",
    "        recommendations.append(\"Target younger customers with tailored products to improve retention.\")\n",
    "    elif feature == \"BalanceSalaryRatio\":\n",
    "        recommendations.append(\"Encourage customers with high balance-to-salary ratios to invest in premium products.\")\n",
    "    elif feature == \"Tenure\":\n",
    "        recommendations.append(\"Reward long-tenured customers with loyalty programs to reduce churn.\")\n",
    "    elif feature == \"NumOfProducts\":\n",
    "        recommendations.append(\"Promote cross-selling opportunities to customers with fewer products.\")\n",
    "    elif feature == \"IsActiveMember\":\n",
    "        recommendations.append(\"Engage inactive members with personalized offers to increase activity.\")\n",
    "    elif feature == \"EstimatedSalary\":\n",
    "        recommendations.append(\"Offer customized financial products based on customer salary levels.\")\n",
    "    elif feature == \"HasCrCard\":\n",
    "        recommendations.append(\"Promote credit card usage benefits to customers without credit cards.\")\n",
    "    elif feature == \"Geography_Germany\":\n",
    "        recommendations.append(\"Address specific needs of customers in Germany to improve satisfaction.\")\n",
    "    elif feature == \"Geography_Spain\":\n",
    "        recommendations.append(\"Focus on customer retention strategies for the Spanish market.\")\n",
    "\n",
    "# Display the recommendations\n",
    "print(\"\\nBusiness Recommendations:\")\n",
    "for i, rec in enumerate(recommendations, 1):\n",
    "    print(f\"{i}. {rec}\")"
   ]
  },
  {
   "cell_type": "markdown",
   "metadata": {},
   "source": [
    "### Performance Comparison"
   ]
  },
  {
   "cell_type": "code",
   "execution_count": 70,
   "metadata": {},
   "outputs": [
    {
     "name": "stdout",
     "output_type": "stream",
     "text": [
      "            XGBoost  Random Forest  LightGBM  Ensemble\n",
      "Accuracy   0.858000       0.842500  0.869000  0.819500\n",
      "Precision  0.718861       0.802632  0.798354  0.565714\n",
      "Recall     0.496314       0.299754  0.476658  0.486486\n",
      "F1 Score   0.587209       0.436494  0.596923  0.523118\n",
      "ROC AUC    0.723361       0.640461  0.722949  0.695535\n"
     ]
    }
   ],
   "source": [
    "import pandas as pd\n",
    "from sklearn.metrics import accuracy_score, precision_score, recall_score, f1_score, roc_auc_score\n",
    "\n",
    "# Evaluate the performance of each model on the training and testing datasets\n",
    "\n",
    "\n",
    "# Define a function to evaluate models and return test metrics\n",
    "def evaluate_model(name, y_train, y_train_pred, y_test, y_test_pred):\n",
    "    test_metrics = {}\n",
    "    test_metrics['Accuracy'] = accuracy_score(y_test, y_test_pred)\n",
    "    test_metrics['Precision'] = precision_score(y_test, y_test_pred)\n",
    "    test_metrics['Recall'] = recall_score(y_test, y_test_pred)\n",
    "    test_metrics['F1 Score'] = f1_score(y_test, y_test_pred)\n",
    "    test_metrics['ROC AUC'] = roc_auc_score(y_test, y_test_pred)\n",
    "    return test_metrics\n",
    "\n",
    "# Evaluate XGBoost model\n",
    "xgb_metrics = evaluate_model(\"XGBoost\", y_train, y_train_pred, y_test, y_test_pred)\n",
    "\n",
    "# Evaluate Random Forest model\n",
    "rf_metrics = evaluate_model(\"Random Forest\", y_train, y_train_pred_rf, y_test, y_test_pred_rf)\n",
    "\n",
    "# Evaluate LightGBM model\n",
    "lgbm_metrics = evaluate_model(\"LightGBM\", y_train, y_train_pred_lgb, y_test, y_test_pred_lgb)\n",
    "\n",
    "# Evaluate Ensemble model\n",
    "ensemble_metrics = evaluate_model(\"Ensemble\", y_train, y_train_pred_ensemble, y_test, y_test_pred_ensemble)\n",
    "\n",
    "# Create the DataFrame\n",
    "performance_data = {\n",
    "    'XGBoost': xgb_metrics,\n",
    "    'Random Forest': rf_metrics,\n",
    "    'LightGBM': lgbm_metrics,\n",
    "    'Ensemble': ensemble_metrics\n",
    "}\n",
    "\n",
    "performance_df = pd.DataFrame(performance_data)\n",
    "\n",
    "# Print the DataFrame\n",
    "print(performance_df)"
   ]
  },
  {
   "cell_type": "markdown",
   "metadata": {},
   "source": []
  },
  {
   "cell_type": "markdown",
   "metadata": {},
   "source": []
  },
  {
   "cell_type": "markdown",
   "metadata": {},
   "source": []
  }
 ],
 "metadata": {
  "kernelspec": {
   "display_name": "stable_diff",
   "language": "python",
   "name": "python3"
  },
  "language_info": {
   "codemirror_mode": {
    "name": "ipython",
    "version": 3
   },
   "file_extension": ".py",
   "mimetype": "text/x-python",
   "name": "python",
   "nbconvert_exporter": "python",
   "pygments_lexer": "ipython3",
   "version": "3.8.13"
  }
 },
 "nbformat": 4,
 "nbformat_minor": 2
}
